{
 "cells": [
  {
   "cell_type": "code",
   "execution_count": 1,
   "metadata": {},
   "outputs": [],
   "source": [
    "import retro"
   ]
  },
  {
   "cell_type": "code",
   "execution_count": 2,
   "metadata": {},
   "outputs": [
    {
     "name": "stderr",
     "output_type": "stream",
     "text": [
      "c:\\Users\\HimCheng\\AppData\\Local\\Programs\\Python\\Python38\\lib\\site-packages\\gym\\utils\\seeding.py:159: DeprecationWarning: \u001b[33mWARN: Function `hash_seed(seed, max_bytes)` is marked as deprecated and will be removed in the future. \u001b[0m\n",
      "  deprecation(\n",
      "c:\\Users\\HimCheng\\AppData\\Local\\Programs\\Python\\Python38\\lib\\site-packages\\gym\\utils\\seeding.py:203: DeprecationWarning: \u001b[33mWARN: Function `_bigint_from_bytes(bytes)` is marked as deprecated and will be removed in the future. \u001b[0m\n",
      "  deprecation(\n"
     ]
    }
   ],
   "source": [
    "env = retro.make(\"SuperMarioLand-Gameboy\")"
   ]
  },
  {
   "cell_type": "code",
   "execution_count": 3,
   "metadata": {},
   "outputs": [
    {
     "data": {
      "text/plain": [
       "array([[[248, 252, 248],\n",
       "        [248, 252, 248],\n",
       "        [248, 252, 248],\n",
       "        ...,\n",
       "        [248, 252, 248],\n",
       "        [248, 252, 248],\n",
       "        [248, 252, 248]],\n",
       "\n",
       "       [[248, 252, 248],\n",
       "        [  0,   0,   0],\n",
       "        [248, 252, 248],\n",
       "        ...,\n",
       "        [  0,   0,   0],\n",
       "        [  0,   0,   0],\n",
       "        [248, 252, 248]],\n",
       "\n",
       "       [[248, 252, 248],\n",
       "        [  0,   0,   0],\n",
       "        [  0,   0,   0],\n",
       "        ...,\n",
       "        [248, 252, 248],\n",
       "        [248, 252, 248],\n",
       "        [248, 252, 248]],\n",
       "\n",
       "       ...,\n",
       "\n",
       "       [[ 80,  84,  80],\n",
       "        [ 80,  84,  80],\n",
       "        [ 80,  84,  80],\n",
       "        ...,\n",
       "        [ 80,  84,  80],\n",
       "        [ 80,  84,  80],\n",
       "        [ 80,  84,  80]],\n",
       "\n",
       "       [[  0,   0,   0],\n",
       "        [  0,   0,   0],\n",
       "        [  0,   0,   0],\n",
       "        ...,\n",
       "        [  0,   0,   0],\n",
       "        [  0,   0,   0],\n",
       "        [  0,   0,   0]],\n",
       "\n",
       "       [[  0,   0,   0],\n",
       "        [  0,   0,   0],\n",
       "        [  0,   0,   0],\n",
       "        ...,\n",
       "        [  0,   0,   0],\n",
       "        [  0,   0,   0],\n",
       "        [  0,   0,   0]]], dtype=uint8)"
      ]
     },
     "execution_count": 3,
     "metadata": {},
     "output_type": "execute_result"
    }
   ],
   "source": [
    "env.reset()"
   ]
  },
  {
   "cell_type": "code",
   "execution_count": 4,
   "metadata": {},
   "outputs": [
    {
     "data": {
      "text/plain": [
       "MultiBinary(9)"
      ]
     },
     "execution_count": 4,
     "metadata": {},
     "output_type": "execute_result"
    }
   ],
   "source": [
    "env.action_space"
   ]
  },
  {
   "cell_type": "code",
   "execution_count": 5,
   "metadata": {},
   "outputs": [
    {
     "data": {
      "text/plain": [
       "[array([1, 0, 0, 0, 1, 0, 1, 0, 1], dtype=int8)]"
      ]
     },
     "execution_count": 5,
     "metadata": {},
     "output_type": "execute_result"
    }
   ],
   "source": [
    "[env.action_space.sample() for i in range(1)]"
   ]
  },
  {
   "cell_type": "code",
   "execution_count": 6,
   "metadata": {},
   "outputs": [
    {
     "data": {
      "text/plain": [
       "Box(0, 255, (144, 160, 3), uint8)"
      ]
     },
     "execution_count": 6,
     "metadata": {},
     "output_type": "execute_result"
    }
   ],
   "source": [
    "env.observation_space"
   ]
  },
  {
   "cell_type": "code",
   "execution_count": 7,
   "metadata": {},
   "outputs": [
    {
     "data": {
      "text/plain": [
       "(144, 160, 3)"
      ]
     },
     "execution_count": 7,
     "metadata": {},
     "output_type": "execute_result"
    }
   ],
   "source": [
    "env.observation_space.shape"
   ]
  },
  {
   "cell_type": "code",
   "execution_count": 8,
   "metadata": {},
   "outputs": [
    {
     "data": {
      "text/plain": [
       "array([[[255, 255, 255],\n",
       "        [255, 255, 255],\n",
       "        [255, 255, 255],\n",
       "        ...,\n",
       "        [255, 255, 255],\n",
       "        [255, 255, 255],\n",
       "        [255, 255, 255]],\n",
       "\n",
       "       [[255, 255, 255],\n",
       "        [255, 255, 255],\n",
       "        [255, 255, 255],\n",
       "        ...,\n",
       "        [255, 255, 255],\n",
       "        [255, 255, 255],\n",
       "        [255, 255, 255]],\n",
       "\n",
       "       [[255, 255, 255],\n",
       "        [255, 255, 255],\n",
       "        [255, 255, 255],\n",
       "        ...,\n",
       "        [255, 255, 255],\n",
       "        [255, 255, 255],\n",
       "        [255, 255, 255]],\n",
       "\n",
       "       ...,\n",
       "\n",
       "       [[255, 255, 255],\n",
       "        [255, 255, 255],\n",
       "        [255, 255, 255],\n",
       "        ...,\n",
       "        [255, 255, 255],\n",
       "        [255, 255, 255],\n",
       "        [255, 255, 255]],\n",
       "\n",
       "       [[255, 255, 255],\n",
       "        [255, 255, 255],\n",
       "        [255, 255, 255],\n",
       "        ...,\n",
       "        [255, 255, 255],\n",
       "        [255, 255, 255],\n",
       "        [255, 255, 255]],\n",
       "\n",
       "       [[255, 255, 255],\n",
       "        [255, 255, 255],\n",
       "        [255, 255, 255],\n",
       "        ...,\n",
       "        [255, 255, 255],\n",
       "        [255, 255, 255],\n",
       "        [255, 255, 255]]], dtype=uint8)"
      ]
     },
     "execution_count": 8,
     "metadata": {},
     "output_type": "execute_result"
    }
   ],
   "source": [
    "env.observation_space.high"
   ]
  },
  {
   "cell_type": "code",
   "execution_count": 9,
   "metadata": {},
   "outputs": [
    {
     "data": {
      "text/plain": [
       "<Figure size 640x480 with 0 Axes>"
      ]
     },
     "metadata": {},
     "output_type": "display_data"
    },
    {
     "data": {
      "image/png": "[encoded data removed]",
      "text/plain": [
       "<Figure size 640x480 with 1 Axes>"
      ]
     },
     "metadata": {},
     "output_type": "display_data"
    },
    {
     "ename": "KeyboardInterrupt",
     "evalue": "",
     "output_type": "error",
     "traceback": [
      "\u001b[1;31m---------------------------------------------------------------------------\u001b[0m",
      "\u001b[1;31mKeyboardInterrupt\u001b[0m                         Traceback (most recent call last)",
      "\u001b[1;32mc:\\Users\\HimCheng\\Desktop\\Python\\On9main.ipynb Cell 9\u001b[0m line \u001b[0;36m2\n\u001b[0;32m     <a href='vscode-notebook-cell:/c%3A/Users/HimCheng/Desktop/Python/On9main.ipynb#X11sZmlsZQ%3D%3D?line=24'>25</a>\u001b[0m current_screen \u001b[39m=\u001b[39m env\u001b[39m.\u001b[39mrender(mode\u001b[39m=\u001b[39m\u001b[39m'\u001b[39m\u001b[39mrgb_array\u001b[39m\u001b[39m'\u001b[39m) \u001b[39m# 返回现在的图像, 用于可视化\u001b[39;00m\n\u001b[0;32m     <a href='vscode-notebook-cell:/c%3A/Users/HimCheng/Desktop/Python/On9main.ipynb#X11sZmlsZQ%3D%3D?line=25'>26</a>\u001b[0m \u001b[39m# 绘制画面\u001b[39;00m\n\u001b[1;32m---> <a href='vscode-notebook-cell:/c%3A/Users/HimCheng/Desktop/Python/On9main.ipynb#X11sZmlsZQ%3D%3D?line=26'>27</a>\u001b[0m plt\u001b[39m.\u001b[39;49mpause(\u001b[39m0.7\u001b[39;49m)  \u001b[39m# pause a bit so that plots are updated\u001b[39;00m\n\u001b[0;32m     <a href='vscode-notebook-cell:/c%3A/Users/HimCheng/Desktop/Python/On9main.ipynb#X11sZmlsZQ%3D%3D?line=27'>28</a>\u001b[0m ipythondisplay\u001b[39m.\u001b[39mclear_output(wait\u001b[39m=\u001b[39m\u001b[39mTrue\u001b[39;00m)\n\u001b[0;32m     <a href='vscode-notebook-cell:/c%3A/Users/HimCheng/Desktop/Python/On9main.ipynb#X11sZmlsZQ%3D%3D?line=28'>29</a>\u001b[0m ipythondisplay\u001b[39m.\u001b[39mdisplay(plt\u001b[39m.\u001b[39mgcf())\n",
      "File \u001b[1;32mc:\\Users\\HimCheng\\AppData\\Local\\Programs\\Python\\Python38\\lib\\site-packages\\matplotlib\\pyplot.py:582\u001b[0m, in \u001b[0;36mpause\u001b[1;34m(interval)\u001b[0m\n\u001b[0;32m    580\u001b[0m         canvas\u001b[39m.\u001b[39mdraw_idle()\n\u001b[0;32m    581\u001b[0m     show(block\u001b[39m=\u001b[39m\u001b[39mFalse\u001b[39;00m)\n\u001b[1;32m--> 582\u001b[0m     canvas\u001b[39m.\u001b[39;49mstart_event_loop(interval)\n\u001b[0;32m    583\u001b[0m \u001b[39melse\u001b[39;00m:\n\u001b[0;32m    584\u001b[0m     time\u001b[39m.\u001b[39msleep(interval)\n",
      "File \u001b[1;32mc:\\Users\\HimCheng\\AppData\\Local\\Programs\\Python\\Python38\\lib\\site-packages\\matplotlib\\backend_bases.py:2553\u001b[0m, in \u001b[0;36mFigureCanvasBase.start_event_loop\u001b[1;34m(self, timeout)\u001b[0m\n\u001b[0;32m   2551\u001b[0m \u001b[39mwhile\u001b[39;00m \u001b[39mself\u001b[39m\u001b[39m.\u001b[39m_looping \u001b[39mand\u001b[39;00m counter \u001b[39m*\u001b[39m timestep \u001b[39m<\u001b[39m timeout:\n\u001b[0;32m   2552\u001b[0m     \u001b[39mself\u001b[39m\u001b[39m.\u001b[39mflush_events()\n\u001b[1;32m-> 2553\u001b[0m     time\u001b[39m.\u001b[39;49msleep(timestep)\n\u001b[0;32m   2554\u001b[0m     counter \u001b[39m+\u001b[39m\u001b[39m=\u001b[39m \u001b[39m1\u001b[39m\n",
      "\u001b[1;31mKeyboardInterrupt\u001b[0m: "
     ]
    }
   ],
   "source": [
    "import matplotlib\n",
    "import matplotlib.pyplot as plt\n",
    "%matplotlib inline\n",
    "\n",
    "from IPython.display import HTML\n",
    "from IPython import display as ipythondisplay\n",
    "\n",
    "#env = retro.make('SuperMarioLand-Gameboy') # 初始化场景\n",
    "#env.reset() # 初始状态\n",
    "env.render(mode='rgb_array')\n",
    "t = 0\n",
    "# 随便动一步(初始状态)\n",
    "action = env.action_space.sample()\n",
    "state, _, done, _ = env.step(action)\n",
    "env.render(mode='rgb_array')\n",
    "# 绘图\n",
    "plt.figure()\n",
    "plt.clf()\n",
    "plt.title('Example extracted screen')\n",
    "while True:\n",
    "    action = env.action_space.sample()\n",
    "    # 往后走一步\n",
    "    state, _, done, _ = env.step(action)\n",
    "    # 生成走后的场景\n",
    "    current_screen = env.render(mode='rgb_array') # 返回现在的图像, 用于可视化\n",
    "    # 绘制画面\n",
    "    plt.pause(0.7)  # pause a bit so that plots are updated\n",
    "    ipythondisplay.clear_output(wait=True)\n",
    "    ipythondisplay.display(plt.gcf())\n",
    "    plt.title('Action: {}'.format(action))\n",
    "    plt.imshow(current_screen, interpolation='none')\n",
    "    t = t + 1\n",
    "    if done:\n",
    "        break\n",
    "    if t>100:\n",
    "        break\n",
    "plt.show()\n",
    "env.close()\n",
    "print(t)"
   ]
  }
 ],
 "metadata": {
  "kernelspec": {
   "display_name": "Python 3",
   "language": "python",
   "name": "python3"
  },
  "language_info": {
   "codemirror_mode": {
    "name": "ipython",
    "version": 3
   },
   "file_extension": ".py",
   "mimetype": "text/x-python",
   "name": "python",
   "nbconvert_exporter": "python",
   "pygments_lexer": "ipython3",
   "version": "3.8.8"
  }
 },
 "nbformat": 4,
 "nbformat_minor": 2
}
